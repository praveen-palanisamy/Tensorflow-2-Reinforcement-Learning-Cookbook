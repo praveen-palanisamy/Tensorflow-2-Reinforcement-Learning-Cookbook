{
 "cells": [
  {
   "cell_type": "markdown",
   "metadata": {},
   "source": [
    "Dueling DQN agent training script\n",
    "Chapter 3, TensorFlow 2 Reinforcement Learning Cookbook | Praveen Palanisamy"
   ]
  },
  {
   "cell_type": "code",
   "execution_count": 1,
   "metadata": {},
   "outputs": [],
   "source": [
    "import argparse\n",
    "import os\n",
    "import random\n",
    "from collections import deque\n",
    "from datetime import datetime"
   ]
  },
  {
   "cell_type": "code",
   "execution_count": 2,
   "metadata": {},
   "outputs": [],
   "source": [
    "import gym\n",
    "import numpy as np\n",
    "import tensorflow as tf\n",
    "from tensorflow.keras.layers import Add, Dense, Input\n",
    "from tensorflow.keras.optimizers import Adam"
   ]
  },
  {
   "cell_type": "code",
   "execution_count": 3,
   "metadata": {},
   "outputs": [],
   "source": [
    "tf.keras.backend.set_floatx(\"float64\")"
   ]
  },
  {
   "cell_type": "code",
   "execution_count": 4,
   "metadata": {},
   "outputs": [
    {
     "data": {
      "text/plain": [
       "_StoreAction(option_strings=['--logdir'], dest='logdir', nargs=None, const=None, default='logs', type=None, choices=None, help=None, metavar=None)"
      ]
     },
     "execution_count": 4,
     "metadata": {},
     "output_type": "execute_result"
    }
   ],
   "source": [
    "parser = argparse.ArgumentParser(prog=\"TFRL-Cookbook-Ch3-DuelingDQN\")\n",
    "parser.add_argument(\"--env\", default=\"CartPole-v0\")\n",
    "parser.add_argument(\"--lr\", type=float, default=0.005)\n",
    "parser.add_argument(\"--batch_size\", type=int, default=64)\n",
    "parser.add_argument(\"--gamma\", type=float, default=0.95)\n",
    "parser.add_argument(\"--eps\", type=float, default=1.0)\n",
    "parser.add_argument(\"--eps_decay\", type=float, default=0.995)\n",
    "parser.add_argument(\"--eps_min\", type=float, default=0.01)\n",
    "parser.add_argument(\"--logdir\", default=\"logs\")"
   ]
  },
  {
   "cell_type": "code",
   "execution_count": 5,
   "metadata": {},
   "outputs": [
    {
     "name": "stdout",
     "output_type": "stream",
     "text": [
      "Saving training logs to:logs/TFRL-Cookbook-Ch3-DuelingDQN/CartPole-v0/20210519-043543\n"
     ]
    }
   ],
   "source": [
    "args = parser.parse_args([])\n",
    "logdir = os.path.join(\n",
    "    args.logdir, parser.prog, args.env, datetime.now().strftime(\"%Y%m%d-%H%M%S\")\n",
    ")\n",
    "print(f\"Saving training logs to:{logdir}\")\n",
    "writer = tf.summary.create_file_writer(logdir)"
   ]
  },
  {
   "cell_type": "code",
   "execution_count": 6,
   "metadata": {},
   "outputs": [],
   "source": [
    "class ReplayBuffer:\n",
    "    def __init__(self, capacity=10000):\n",
    "        self.buffer = deque(maxlen=capacity)\n",
    "\n",
    "    def put(self, state, action, reward, next_state, done):\n",
    "        self.buffer.append([state, action, reward, next_state, done])\n",
    "\n",
    "    def sample(self):\n",
    "        sample = random.sample(self.buffer, args.batch_size)\n",
    "        states, actions, rewards, next_states, done = map(np.asarray, zip(*sample))\n",
    "        states = np.array(states).reshape(args.batch_size, -1)\n",
    "        next_states = np.array(next_states).reshape(args.batch_size, -1)\n",
    "        return states, actions, rewards, next_states, done\n",
    "\n",
    "    def size(self):\n",
    "        return len(self.buffer)"
   ]
  },
  {
   "cell_type": "code",
   "execution_count": 7,
   "metadata": {},
   "outputs": [],
   "source": [
    "class DuelingDQN:\n",
    "    def __init__(self, state_dim, aciton_dim):\n",
    "        self.state_dim = state_dim\n",
    "        self.action_dim = aciton_dim\n",
    "        self.epsilon = args.eps\n",
    "\n",
    "        self.model = self.nn_model()\n",
    "\n",
    "    def nn_model(self):\n",
    "        backbone = tf.keras.Sequential(\n",
    "            [\n",
    "                Input((self.state_dim,)),\n",
    "                Dense(32, activation=\"relu\"),\n",
    "                Dense(16, activation=\"relu\"),\n",
    "            ]\n",
    "        )\n",
    "        state_input = Input((self.state_dim,))\n",
    "        backbone_1 = Dense(32, activation=\"relu\")(state_input)\n",
    "        backbone_2 = Dense(16, activation=\"relu\")(backbone_1)\n",
    "        value_output = Dense(1)(backbone_2)\n",
    "        advantage_output = Dense(self.action_dim)(backbone_2)\n",
    "        output = Add()([value_output, advantage_output])\n",
    "        model = tf.keras.Model(state_input, output)\n",
    "        model.compile(loss=\"mse\", optimizer=Adam(args.lr))\n",
    "        return model\n",
    "\n",
    "    def predict(self, state):\n",
    "        return self.model.predict(state)\n",
    "\n",
    "    def get_action(self, state):\n",
    "        state = np.reshape(state, [1, self.state_dim])\n",
    "        self.epsilon *= args.eps_decay\n",
    "        self.epsilon = max(self.epsilon, args.eps_min)\n",
    "        q_value = self.predict(state)[0]\n",
    "        if np.random.random() < self.epsilon:\n",
    "            return random.randint(0, self.action_dim - 1)\n",
    "        return np.argmax(q_value)\n",
    "\n",
    "    def train(self, states, targets):\n",
    "        self.model.fit(states, targets, epochs=1, verbose=0)"
   ]
  },
  {
   "cell_type": "code",
   "execution_count": 8,
   "metadata": {},
   "outputs": [],
   "source": [
    "class Agent:\n",
    "    def __init__(self, env):\n",
    "        self.env = env\n",
    "        self.state_dim = self.env.observation_space.shape[0]\n",
    "        self.action_dim = self.env.action_space.n\n",
    "\n",
    "        self.model = DuelingDQN(self.state_dim, self.action_dim)\n",
    "        self.target_model = DuelingDQN(self.state_dim, self.action_dim)\n",
    "        self.update_target()\n",
    "\n",
    "        self.buffer = ReplayBuffer()\n",
    "\n",
    "    def update_target(self):\n",
    "        weights = self.model.model.get_weights()\n",
    "        self.target_model.model.set_weights(weights)\n",
    "\n",
    "    def replay_experience(self):\n",
    "        for _ in range(10):\n",
    "            states, actions, rewards, next_states, done = self.buffer.sample()\n",
    "            targets = self.target_model.predict(states)\n",
    "            next_q_values = self.target_model.predict(next_states).max(axis=1)\n",
    "            targets[range(args.batch_size), actions] = (\n",
    "                rewards + (1 - done) * next_q_values * args.gamma\n",
    "            )\n",
    "            self.model.train(states, targets)\n",
    "\n",
    "    def train(self, max_episodes=1000):\n",
    "        with writer.as_default():\n",
    "            for ep in range(max_episodes):\n",
    "                done, episode_reward = False, 0\n",
    "                state = self.env.reset()\n",
    "                while not done:\n",
    "                    action = self.model.get_action(state)\n",
    "                    next_state, reward, done, _ = self.env.step(action)\n",
    "                    self.buffer.put(state, action, reward * 0.01, next_state, done)\n",
    "                    episode_reward += reward\n",
    "                    state = next_state\n",
    "\n",
    "                if self.buffer.size() >= args.batch_size:\n",
    "                    self.replay_experience()\n",
    "                self.update_target()\n",
    "                print(f\"Episode#{ep} Reward:{episode_reward}\")\n",
    "                tf.summary.scalar(\"episode_reward\", episode_reward, step=ep)"
   ]
  },
  {
   "cell_type": "code",
   "execution_count": 9,
   "metadata": {},
   "outputs": [
    {
     "name": "stdout",
     "output_type": "stream",
     "text": [
      "Episode#0 Reward:52.0\n"
     ]
    },
    {
     "name": "stdout",
     "output_type": "stream",
     "text": [
      "Episode#1 Reward:24.0\n"
     ]
    }
   ],
   "source": [
    "if __name__ == \"__main__\":\n",
    "    env = gym.make(\"CartPole-v0\")\n",
    "    agent = Agent(env)\n",
    "    agent.train(max_episodes=2)  # Increase max_episodes value"
   ]
  }
 ],
 "metadata": {
  "jupytext": {
   "cell_metadata_filter": "-all",
   "executable": "/usr/bin/env python",
   "formats": "ipynb,py"
  },
  "kernelspec": {
   "display_name": "tfrl-cookbook",
   "language": "python",
   "name": "tfrl-cookbook"
  },
  "language_info": {
   "codemirror_mode": {
    "name": "ipython",
    "version": 3
   },
   "file_extension": ".py",
   "mimetype": "text/x-python",
   "name": "python",
   "nbconvert_exporter": "python",
   "pygments_lexer": "ipython3",
   "version": "3.8.0"
  }
 },
 "nbformat": 4,
 "nbformat_minor": 4
}
