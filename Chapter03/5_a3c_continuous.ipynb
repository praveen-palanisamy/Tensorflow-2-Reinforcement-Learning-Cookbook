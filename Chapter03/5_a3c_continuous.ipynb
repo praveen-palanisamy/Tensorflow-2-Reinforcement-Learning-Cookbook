{
 "cells": [
  {
   "cell_type": "markdown",
   "metadata": {},
   "source": [
    "Asynchronous, Advantage Actor-Critic (A3C) agent training script\n",
    "Chapter 3, TensorFlow 2 Reinforcement Learning Cookbook | Praveen Palanisamy"
   ]
  },
  {
   "cell_type": "code",
   "execution_count": 1,
   "metadata": {},
   "outputs": [],
   "source": [
    "import argparse\n",
    "import os\n",
    "from datetime import datetime\n",
    "from multiprocessing import cpu_count\n",
    "from threading import Thread"
   ]
  },
  {
   "cell_type": "code",
   "execution_count": 2,
   "metadata": {},
   "outputs": [],
   "source": [
    "import gym\n",
    "import numpy as np\n",
    "import tensorflow as tf\n",
    "from tensorflow.keras.layers import Dense, Input, Lambda"
   ]
  },
  {
   "cell_type": "code",
   "execution_count": 3,
   "metadata": {},
   "outputs": [],
   "source": [
    "tf.keras.backend.set_floatx(\"float64\")"
   ]
  },
  {
   "cell_type": "code",
   "execution_count": 4,
   "metadata": {},
   "outputs": [
    {
     "data": {
      "text/plain": [
       "_StoreAction(option_strings=['--logdir'], dest='logdir', nargs=None, const=None, default='logs', type=None, choices=None, help=None, metavar=None)"
      ]
     },
     "execution_count": 4,
     "metadata": {},
     "output_type": "execute_result"
    }
   ],
   "source": [
    "parser = argparse.ArgumentParser(prog=\"TFRL-Cookbook-Ch3-A3C\")\n",
    "parser.add_argument(\"--env\", default=\"MountainCarContinuous-v0\")\n",
    "parser.add_argument(\"--num-workers\", default=4, type=int)\n",
    "parser.add_argument(\"--actor-lr\", type=float, default=0.001)\n",
    "parser.add_argument(\"--critic-lr\", type=float, default=0.002)\n",
    "parser.add_argument(\"--update-interval\", type=int, default=5)\n",
    "parser.add_argument(\"--gamma\", type=float, default=0.99)\n",
    "parser.add_argument(\"--logdir\", default=\"logs\")"
   ]
  },
  {
   "cell_type": "code",
   "execution_count": 5,
   "metadata": {},
   "outputs": [
    {
     "name": "stdout",
     "output_type": "stream",
     "text": [
      "Saving training logs to:logs/TFRL-Cookbook-Ch3-A3C/MountainCarContinuous-v0/20210519-043130\n"
     ]
    }
   ],
   "source": [
    "args = parser.parse_args([])\n",
    "logdir = os.path.join(\n",
    "    args.logdir, parser.prog, args.env, datetime.now().strftime(\"%Y%m%d-%H%M%S\")\n",
    ")\n",
    "print(f\"Saving training logs to:{logdir}\")\n",
    "writer = tf.summary.create_file_writer(logdir)"
   ]
  },
  {
   "cell_type": "code",
   "execution_count": 6,
   "metadata": {},
   "outputs": [],
   "source": [
    "GLOBAL_EPISODE_NUM = 0"
   ]
  },
  {
   "cell_type": "code",
   "execution_count": 7,
   "metadata": {},
   "outputs": [],
   "source": [
    "class Actor:\n",
    "    def __init__(self, state_dim, action_dim, action_bound, std_bound):\n",
    "        self.state_dim = state_dim\n",
    "        self.action_dim = action_dim\n",
    "        self.action_bound = action_bound\n",
    "        self.std_bound = std_bound\n",
    "        self.model = self.nn_model()\n",
    "        self.opt = tf.keras.optimizers.Adam(args.actor_lr)\n",
    "        self.entropy_beta = 0.01\n",
    "\n",
    "    def nn_model(self):\n",
    "        state_input = Input((self.state_dim,))\n",
    "        dense_1 = Dense(32, activation=\"relu\")(state_input)\n",
    "        dense_2 = Dense(32, activation=\"relu\")(dense_1)\n",
    "        out_mu = Dense(self.action_dim, activation=\"tanh\")(dense_2)\n",
    "        mu_output = Lambda(lambda x: x * self.action_bound)(out_mu)\n",
    "        std_output = Dense(self.action_dim, activation=\"softplus\")(dense_2)\n",
    "        return tf.keras.models.Model(state_input, [mu_output, std_output])\n",
    "\n",
    "    def get_action(self, state):\n",
    "        state = np.reshape(state, [1, self.state_dim])\n",
    "        mu, std = self.model.predict(state)\n",
    "        mu, std = mu[0], std[0]\n",
    "        return np.random.normal(mu, std, size=self.action_dim)\n",
    "\n",
    "    def log_pdf(self, mu, std, action):\n",
    "        std = tf.clip_by_value(std, self.std_bound[0], self.std_bound[1])\n",
    "        var = std ** 2\n",
    "        log_policy_pdf = -0.5 * (action - mu) ** 2 / var - 0.5 * tf.math.log(\n",
    "            var * 2 * np.pi\n",
    "        )\n",
    "        return tf.reduce_sum(log_policy_pdf, 1, keepdims=True)\n",
    "\n",
    "    def compute_loss(self, mu, std, actions, advantages):\n",
    "        log_policy_pdf = self.log_pdf(mu, std, actions)\n",
    "        loss_policy = log_policy_pdf * advantages\n",
    "        return tf.reduce_sum(-loss_policy)\n",
    "\n",
    "    def train(self, states, actions, advantages):\n",
    "        with tf.GradientTape() as tape:\n",
    "            mu, std = self.model(states, training=True)\n",
    "            loss = self.compute_loss(mu, std, actions, advantages)\n",
    "        grads = tape.gradient(loss, self.model.trainable_variables)\n",
    "        self.opt.apply_gradients(zip(grads, self.model.trainable_variables))\n",
    "        return loss"
   ]
  },
  {
   "cell_type": "code",
   "execution_count": 8,
   "metadata": {},
   "outputs": [],
   "source": [
    "class Critic:\n",
    "    def __init__(self, state_dim):\n",
    "        self.state_dim = state_dim\n",
    "        self.model = self.nn_model()\n",
    "        self.opt = tf.keras.optimizers.Adam(args.critic_lr)\n",
    "\n",
    "    def nn_model(self):\n",
    "        return tf.keras.Sequential(\n",
    "            [\n",
    "                Input((self.state_dim,)),\n",
    "                Dense(32, activation=\"relu\"),\n",
    "                Dense(32, activation=\"relu\"),\n",
    "                Dense(16, activation=\"relu\"),\n",
    "                Dense(1, activation=\"linear\"),\n",
    "            ]\n",
    "        )\n",
    "\n",
    "    def compute_loss(self, v_pred, td_targets):\n",
    "        mse = tf.keras.losses.MeanSquaredError()\n",
    "        return mse(td_targets, v_pred)\n",
    "\n",
    "    def train(self, states, td_targets):\n",
    "        with tf.GradientTape() as tape:\n",
    "            v_pred = self.model(states, training=True)\n",
    "            # assert (\n",
    "            #    v_pred.shape == td_targets.shape\n",
    "            # ), f\"{v_pred.shape} not equal {td_targets.shape}\"\n",
    "\n",
    "            loss = self.compute_loss(v_pred, tf.stop_gradient(td_targets))\n",
    "        grads = tape.gradient(loss, self.model.trainable_variables)\n",
    "        self.opt.apply_gradients(zip(grads, self.model.trainable_variables))\n",
    "        return loss"
   ]
  },
  {
   "cell_type": "code",
   "execution_count": 9,
   "metadata": {},
   "outputs": [],
   "source": [
    "class Agent:\n",
    "    def __init__(self, env_name, num_workers=cpu_count()):\n",
    "        env = gym.make(env_name)\n",
    "        self.env_name = env_name\n",
    "        self.state_dim = env.observation_space.shape[0]\n",
    "        self.action_dim = env.action_space.shape[0]\n",
    "        self.action_bound = env.action_space.high[0]\n",
    "        self.std_bound = [1e-2, 1.0]\n",
    "\n",
    "        self.global_actor = Actor(\n",
    "            self.state_dim, self.action_dim, self.action_bound, self.std_bound\n",
    "        )\n",
    "        self.global_critic = Critic(self.state_dim)\n",
    "        self.num_workers = num_workers\n",
    "\n",
    "    def train(self, max_episodes=1000):\n",
    "        workers = []\n",
    "\n",
    "        for i in range(self.num_workers):\n",
    "            env = gym.make(self.env_name)\n",
    "            workers.append(\n",
    "                A3CWorker(env, self.global_actor, self.global_critic, max_episodes)\n",
    "            )\n",
    "\n",
    "        for worker in workers:\n",
    "            worker.start()\n",
    "\n",
    "        for worker in workers:\n",
    "            worker.join()"
   ]
  },
  {
   "cell_type": "code",
   "execution_count": 10,
   "metadata": {},
   "outputs": [],
   "source": [
    "class A3CWorker(Thread):\n",
    "    def __init__(self, env, global_actor, global_critic, max_episodes):\n",
    "        Thread.__init__(self)\n",
    "        self.env = env\n",
    "        self.state_dim = self.env.observation_space.shape[0]\n",
    "        self.action_dim = self.env.action_space.shape[0]\n",
    "        self.action_bound = self.env.action_space.high[0]\n",
    "        self.std_bound = [1e-2, 1.0]\n",
    "\n",
    "        self.max_episodes = max_episodes\n",
    "        self.global_actor = global_actor\n",
    "        self.global_critic = global_critic\n",
    "        self.actor = Actor(\n",
    "            self.state_dim, self.action_dim, self.action_bound, self.std_bound\n",
    "        )\n",
    "        self.critic = Critic(self.state_dim)\n",
    "\n",
    "        self.actor.model.set_weights(self.global_actor.model.get_weights())\n",
    "        self.critic.model.set_weights(self.global_critic.model.get_weights())\n",
    "\n",
    "    def n_step_td_target(self, rewards, next_v_value, done):\n",
    "        td_targets = np.zeros_like(rewards)\n",
    "        cumulative = 0\n",
    "        if not done:\n",
    "            cumulative = next_v_value\n",
    "\n",
    "        for k in reversed(range(0, len(rewards))):\n",
    "            cumulative = args.gamma * cumulative + rewards[k]\n",
    "            td_targets[k] = cumulative\n",
    "        return td_targets\n",
    "\n",
    "    def advantage(self, td_targets, baselines):\n",
    "        return td_targets - baselines\n",
    "\n",
    "    def train(self):\n",
    "        global GLOBAL_EPISODE_NUM\n",
    "        while self.max_episodes >= GLOBAL_EPISODE_NUM:\n",
    "            state_batch = []\n",
    "            action_batch = []\n",
    "            reward_batch = []\n",
    "            episode_reward, done = 0, False\n",
    "\n",
    "            state = self.env.reset()\n",
    "\n",
    "            while not done:\n",
    "                # self.env.render()\n",
    "                action = self.actor.get_action(state)\n",
    "                action = np.clip(action, -self.action_bound, self.action_bound)\n",
    "\n",
    "                next_state, reward, done, _ = self.env.step(action)\n",
    "\n",
    "                state = np.reshape(state, [1, self.state_dim])\n",
    "                action = np.reshape(action, [1, 1])\n",
    "                next_state = np.reshape(next_state, [1, self.state_dim])\n",
    "                reward = np.reshape(reward, [1, 1])\n",
    "                state_batch.append(state)\n",
    "                action_batch.append(action)\n",
    "                reward_batch.append(reward)\n",
    "\n",
    "                if len(state_batch) >= args.update_interval or done:\n",
    "                    states = np.array([state.squeeze() for state in state_batch])\n",
    "                    actions = np.array([action.squeeze() for action in action_batch])\n",
    "                    rewards = np.array([reward.squeeze() for reward in reward_batch])\n",
    "                    next_v_value = self.critic.model.predict(next_state)\n",
    "                    td_targets = self.n_step_td_target(\n",
    "                        (rewards + 8) / 8, next_v_value, done\n",
    "                    )\n",
    "                    advantages = td_targets - self.critic.model.predict(states)\n",
    "\n",
    "                    actor_loss = self.global_actor.train(states, actions, advantages)\n",
    "                    critic_loss = self.global_critic.train(states, td_targets)\n",
    "\n",
    "                    self.actor.model.set_weights(self.global_actor.model.get_weights())\n",
    "                    self.critic.model.set_weights(\n",
    "                        self.global_critic.model.get_weights()\n",
    "                    )\n",
    "\n",
    "                    state_batch = []\n",
    "                    action_batch = []\n",
    "                    reward_batch = []\n",
    "\n",
    "                episode_reward += reward[0][0]\n",
    "                state = next_state[0]\n",
    "\n",
    "            print(f\"Episode#{GLOBAL_EPISODE_NUM} Reward:{episode_reward}\")\n",
    "            tf.summary.scalar(\"episode_reward\", episode_reward, step=GLOBAL_EPISODE_NUM)\n",
    "            GLOBAL_EPISODE_NUM += 1\n",
    "\n",
    "    def run(self):\n",
    "        self.train()"
   ]
  },
  {
   "cell_type": "code",
   "execution_count": 11,
   "metadata": {},
   "outputs": [
    {
     "name": "stdout",
     "output_type": "stream",
     "text": [
      "Episode#0 Reward:-25.118942345515222\n"
     ]
    },
    {
     "name": "stdout",
     "output_type": "stream",
     "text": [
      "Episode#1 Reward:-26.50872647997092\n"
     ]
    },
    {
     "name": "stdout",
     "output_type": "stream",
     "text": [
      "Episode#2 Reward:-26.7255971229953\n"
     ]
    },
    {
     "name": "stdout",
     "output_type": "stream",
     "text": [
      "Episode#3 Reward:-26.10107252091297\n"
     ]
    },
    {
     "name": "stdout",
     "output_type": "stream",
     "text": [
      "Episode#4 Reward:-54.40115134060064\n",
      "Episode#5 Reward:-53.18141633851967\n"
     ]
    }
   ],
   "source": [
    "if __name__ == \"__main__\":\n",
    "    env_name = \"MountainCarContinuous-v0\"\n",
    "    agent = Agent(env_name, args.num_workers)\n",
    "    agent.train(max_episodes=2)  # Increase max_episodes value"
   ]
  }
 ],
 "metadata": {
  "jupytext": {
   "cell_metadata_filter": "-all",
   "executable": "/usr/bin/env python",
   "formats": "ipynb,py"
  },
  "kernelspec": {
   "display_name": "tfrl-cookbook",
   "language": "python",
   "name": "tfrl-cookbook"
  },
  "language_info": {
   "codemirror_mode": {
    "name": "ipython",
    "version": 3
   },
   "file_extension": ".py",
   "mimetype": "text/x-python",
   "name": "python",
   "nbconvert_exporter": "python",
   "pygments_lexer": "ipython3",
   "version": "3.8.0"
  }
 },
 "nbformat": 4,
 "nbformat_minor": 4
}
