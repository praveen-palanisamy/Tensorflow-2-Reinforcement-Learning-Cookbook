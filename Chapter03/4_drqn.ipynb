{
 "cells": [
  {
   "cell_type": "markdown",
   "metadata": {},
   "source": [
    "Deep Recurrent Q-Network (DRQN) agent training script\n",
    "Chapter 3, TensorFlow 2 Reinforcement Learning Cookbook | Praveen Palanisamy"
   ]
  },
  {
   "cell_type": "code",
   "execution_count": 1,
   "metadata": {},
   "outputs": [],
   "source": [
    "import tensorflow as tf\n",
    "from datetime import datetime\n",
    "import os\n",
    "from tensorflow.keras.layers import Input, Dense, LSTM\n",
    "from tensorflow.keras.optimizers import Adam"
   ]
  },
  {
   "cell_type": "code",
   "execution_count": 2,
   "metadata": {},
   "outputs": [],
   "source": [
    "import gym\n",
    "import argparse\n",
    "import numpy as np\n",
    "from collections import deque\n",
    "import random"
   ]
  },
  {
   "cell_type": "code",
   "execution_count": 3,
   "metadata": {},
   "outputs": [],
   "source": [
    "tf.keras.backend.set_floatx(\"float64\")"
   ]
  },
  {
   "cell_type": "code",
   "execution_count": 4,
   "metadata": {},
   "outputs": [
    {
     "data": {
      "text/plain": [
       "_StoreAction(option_strings=['--logdir'], dest='logdir', nargs=None, const=None, default='logs', type=None, choices=None, help=None, metavar=None)"
      ]
     },
     "execution_count": 4,
     "metadata": {},
     "output_type": "execute_result"
    }
   ],
   "source": [
    "parser = argparse.ArgumentParser(prog=\"TFRL-Cookbook-Ch3-DRQN\")\n",
    "parser.add_argument(\"--env\", default=\"CartPole-v0\")\n",
    "parser.add_argument(\"--lr\", type=float, default=0.005)\n",
    "parser.add_argument(\"--batch_size\", type=int, default=64)\n",
    "parser.add_argument(\"--time_steps\", type=int, default=4)\n",
    "parser.add_argument(\"--gamma\", type=float, default=0.95)\n",
    "parser.add_argument(\"--eps\", type=float, default=1.0)\n",
    "parser.add_argument(\"--eps_decay\", type=float, default=0.995)\n",
    "parser.add_argument(\"--eps_min\", type=float, default=0.01)\n",
    "parser.add_argument(\"--logdir\", default=\"logs\")"
   ]
  },
  {
   "cell_type": "code",
   "execution_count": 5,
   "metadata": {},
   "outputs": [
    {
     "name": "stdout",
     "output_type": "stream",
     "text": [
      "Saving training logs to:logs/TFRL-Cookbook-Ch3-DRQN/CartPole-v0/20210519-043550\n"
     ]
    }
   ],
   "source": [
    "args = parser.parse_args([])\n",
    "logdir = os.path.join(\n",
    "    args.logdir, parser.prog, args.env, datetime.now().strftime(\"%Y%m%d-%H%M%S\")\n",
    ")\n",
    "print(f\"Saving training logs to:{logdir}\")\n",
    "writer = tf.summary.create_file_writer(logdir)"
   ]
  },
  {
   "cell_type": "code",
   "execution_count": 6,
   "metadata": {},
   "outputs": [],
   "source": [
    "class ReplayBuffer:\n",
    "    def __init__(self, capacity=10000):\n",
    "        self.buffer = deque(maxlen=capacity)\n",
    "\n",
    "    def store(self, state, action, reward, next_state, done):\n",
    "        self.buffer.append([state, action, reward, next_state, done])\n",
    "\n",
    "    def sample(self):\n",
    "        sample = random.sample(self.buffer, args.batch_size)\n",
    "        states, actions, rewards, next_states, done = map(np.asarray, zip(*sample))\n",
    "        states = np.array(states).reshape(args.batch_size, args.time_steps, -1)\n",
    "        next_states = np.array(next_states).reshape(\n",
    "            args.batch_size, args.time_steps, -1\n",
    "        )\n",
    "        return states, actions, rewards, next_states, done\n",
    "\n",
    "    def size(self):\n",
    "        return len(self.buffer)"
   ]
  },
  {
   "cell_type": "code",
   "execution_count": 7,
   "metadata": {},
   "outputs": [],
   "source": [
    "class DRQN:\n",
    "    def __init__(self, state_dim, action_dim):\n",
    "        self.state_dim = state_dim\n",
    "        self.action_dim = action_dim\n",
    "        self.epsilon = args.eps\n",
    "\n",
    "        self.opt = Adam(args.lr)\n",
    "        self.compute_loss = tf.keras.losses.MeanSquaredError()\n",
    "        self.model = self.nn_model()\n",
    "\n",
    "    def nn_model(self):\n",
    "        return tf.keras.Sequential(\n",
    "            [\n",
    "                Input((args.time_steps, self.state_dim)),\n",
    "                LSTM(32, activation=\"tanh\"),\n",
    "                Dense(16, activation=\"relu\"),\n",
    "                Dense(self.action_dim),\n",
    "            ]\n",
    "        )\n",
    "\n",
    "    def predict(self, state):\n",
    "        return self.model.predict(state)\n",
    "\n",
    "    def get_action(self, state):\n",
    "        state = np.reshape(state, [1, args.time_steps, self.state_dim])\n",
    "        self.epsilon *= args.eps_decay\n",
    "        self.epsilon = max(self.epsilon, args.eps_min)\n",
    "        q_value = self.predict(state)[0]\n",
    "        if np.random.random() < self.epsilon:\n",
    "            return random.randint(0, self.action_dim - 1)\n",
    "        return np.argmax(q_value)\n",
    "\n",
    "    def train(self, states, targets):\n",
    "        targets = tf.stop_gradient(targets)\n",
    "        with tf.GradientTape() as tape:\n",
    "            logits = self.model(states, training=True)\n",
    "            assert targets.shape == logits.shape\n",
    "            loss = self.compute_loss(targets, logits)\n",
    "        grads = tape.gradient(loss, self.model.trainable_variables)\n",
    "        self.opt.apply_gradients(zip(grads, self.model.trainable_variables))"
   ]
  },
  {
   "cell_type": "code",
   "execution_count": 8,
   "metadata": {},
   "outputs": [],
   "source": [
    "class Agent:\n",
    "    def __init__(self, env):\n",
    "        self.env = env\n",
    "        self.state_dim = self.env.observation_space.shape[0]\n",
    "        self.action_dim = self.env.action_space.n\n",
    "\n",
    "        self.states = np.zeros([args.time_steps, self.state_dim])\n",
    "\n",
    "        self.model = DRQN(self.state_dim, self.action_dim)\n",
    "        self.target_model = DRQN(self.state_dim, self.action_dim)\n",
    "        self.update_target()\n",
    "\n",
    "        self.buffer = ReplayBuffer()\n",
    "\n",
    "    def update_target(self):\n",
    "        weights = self.model.model.get_weights()\n",
    "        self.target_model.model.set_weights(weights)\n",
    "\n",
    "    def replay_experience(self):\n",
    "        for _ in range(10):\n",
    "            states, actions, rewards, next_states, done = self.buffer.sample()\n",
    "            targets = self.target_model.predict(states)\n",
    "            next_q_values = self.target_model.predict(next_states).max(axis=1)\n",
    "            targets[range(args.batch_size), actions] = (\n",
    "                rewards + (1 - done) * next_q_values * args.gamma\n",
    "            )\n",
    "            self.model.train(states, targets)\n",
    "\n",
    "    def update_states(self, next_state):\n",
    "        self.states = np.roll(self.states, -1, axis=0)\n",
    "        self.states[-1] = next_state\n",
    "\n",
    "    def train(self, max_episodes=1000):\n",
    "        with writer.as_default():\n",
    "            for ep in range(max_episodes):\n",
    "                done, episode_reward = False, 0\n",
    "                self.states = np.zeros([args.time_steps, self.state_dim])\n",
    "                self.update_states(self.env.reset())\n",
    "                while not done:\n",
    "                    action = self.model.get_action(self.states)\n",
    "                    next_state, reward, done, _ = self.env.step(action)\n",
    "                    prev_states = self.states\n",
    "                    self.update_states(next_state)\n",
    "                    self.buffer.store(\n",
    "                        prev_states, action, reward * 0.01, self.states, done\n",
    "                    )\n",
    "                    episode_reward += reward\n",
    "\n",
    "                if self.buffer.size() >= args.batch_size:\n",
    "                    self.replay_experience()\n",
    "                self.update_target()\n",
    "                print(f\"Episode#{ep} Reward:{episode_reward}\")\n",
    "                tf.summary.scalar(\"episode_reward\", episode_reward, step=ep)"
   ]
  },
  {
   "cell_type": "code",
   "execution_count": 9,
   "metadata": {},
   "outputs": [
    {
     "name": "stdout",
     "output_type": "stream",
     "text": [
      "Episode#0 Reward:12.0\n"
     ]
    },
    {
     "name": "stdout",
     "output_type": "stream",
     "text": [
      "Episode#1 Reward:12.0\n"
     ]
    }
   ],
   "source": [
    "if __name__ == \"__main__\":\n",
    "    env = gym.make(\"CartPole-v0\")\n",
    "    agent = Agent(env)\n",
    "    agent.train(max_episodes=2)  # Increase max_episodes value"
   ]
  }
 ],
 "metadata": {
  "jupytext": {
   "cell_metadata_filter": "-all",
   "executable": "/usr/bin/env python",
   "formats": "ipynb,py"
  },
  "kernelspec": {
   "display_name": "tfrl-cookbook",
   "language": "python",
   "name": "tfrl-cookbook"
  },
  "language_info": {
   "codemirror_mode": {
    "name": "ipython",
    "version": 3
   },
   "file_extension": ".py",
   "mimetype": "text/x-python",
   "name": "python",
   "nbconvert_exporter": "python",
   "pygments_lexer": "ipython3",
   "version": "3.8.0"
  }
 },
 "nbformat": 4,
 "nbformat_minor": 4
}
