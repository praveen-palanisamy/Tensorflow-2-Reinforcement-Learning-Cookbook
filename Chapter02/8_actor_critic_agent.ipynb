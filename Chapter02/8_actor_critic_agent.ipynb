{
 "cells": [
  {
   "cell_type": "markdown",
   "metadata": {},
   "source": [
    "Neural Actor-Critic algorithm and agent\n",
    "Chapter N, TensorFlow 2 Reinforcement Learning Cookbook | Praveen Palanisamy"
   ]
  },
  {
   "cell_type": "code",
   "execution_count": 1,
   "metadata": {},
   "outputs": [],
   "source": [
    "import numpy as np\n",
    "import tensorflow as tf\n",
    "import gym\n",
    "import tensorflow_probability as tfp"
   ]
  },
  {
   "cell_type": "code",
   "execution_count": 2,
   "metadata": {},
   "outputs": [],
   "source": [
    "class ActorCritic(tf.keras.Model):\n",
    "    def __init__(self, action_dim):\n",
    "        super().__init__()\n",
    "        self.fc1 = tf.keras.layers.Dense(512, activation=\"relu\")\n",
    "        self.fc2 = tf.keras.layers.Dense(128, activation=\"relu\")\n",
    "        self.critic = tf.keras.layers.Dense(1, activation=None)\n",
    "        self.actor = tf.keras.layers.Dense(action_dim, activation=None)\n",
    "\n",
    "    def call(self, input_data):\n",
    "        x = self.fc1(input_data)\n",
    "        x1 = self.fc2(x)\n",
    "        actor = self.actor(x1)\n",
    "        critic = self.critic(x1)\n",
    "        return critic, actor"
   ]
  },
  {
   "cell_type": "code",
   "execution_count": 3,
   "metadata": {},
   "outputs": [],
   "source": [
    "class Agent:\n",
    "    def __init__(self, action_dim=4, gamma=0.99):\n",
    "        \"\"\"Agent with a neural-network brain powered policy\n",
    "\n",
    "        Args:\n",
    "            action_dim (int): Action dimension\n",
    "            gamma (float) : Discount factor. Default=0.99\n",
    "        \"\"\"\n",
    "\n",
    "        self.gamma = gamma\n",
    "        self.opt = tf.keras.optimizers.Adam(learning_rate=1e-4)\n",
    "        self.actor_critic = ActorCritic(action_dim)\n",
    "\n",
    "    def get_action(self, state):\n",
    "        _, action_probabilities = self.actor_critic(np.array([state]))\n",
    "        action_probabilities = tf.nn.softmax(action_probabilities)\n",
    "        action_probabilities = action_probabilities.numpy()\n",
    "        dist = tfp.distributions.Categorical(\n",
    "            probs=action_probabilities, dtype=tf.float32\n",
    "        )\n",
    "        action = dist.sample()\n",
    "        return int(action.numpy()[0])\n",
    "\n",
    "    def actor_loss(self, prob, action, td):\n",
    "        prob = tf.nn.softmax(prob)\n",
    "        dist = tfp.distributions.Categorical(probs=prob, dtype=tf.float32)\n",
    "        log_prob = dist.log_prob(action)\n",
    "        loss = -log_prob * td\n",
    "        return loss\n",
    "\n",
    "    def learn(self, state, action, reward, next_state, done):\n",
    "        state = np.array([state])\n",
    "        next_state = np.array([next_state])\n",
    "\n",
    "        with tf.GradientTape() as tape:\n",
    "            value, action_probabilities = self.actor_critic(state, training=True)\n",
    "            value_next_st, _ = self.actor_critic(next_state, training=True)\n",
    "            td = reward + self.gamma * value_next_st * (1 - int(done)) - value\n",
    "            actor_loss = self.actor_loss(action_probabilities, action, td)\n",
    "            critic_loss = td ** 2\n",
    "            total_loss = actor_loss + critic_loss\n",
    "        grads = tape.gradient(total_loss, self.actor_critic.trainable_variables)\n",
    "        self.opt.apply_gradients(zip(grads, self.actor_critic.trainable_variables))\n",
    "        return total_loss"
   ]
  },
  {
   "cell_type": "code",
   "execution_count": 4,
   "metadata": {},
   "outputs": [],
   "source": [
    "def train(agent, env, episodes, render=True):\n",
    "    \"\"\"Train `agent` in `env` for `episodes`\n",
    "\n",
    "    Args:\n",
    "        agent (Agent): Agent to train\n",
    "        env (gym.Env): Environment to train the agent\n",
    "        episodes (int): Number of episodes to train\n",
    "        render (bool): True=Enable/False=Disable rendering; Default=True\n",
    "    \"\"\"\n",
    "\n",
    "    for episode in range(episodes):\n",
    "\n",
    "        done = False\n",
    "        state = env.reset()\n",
    "        total_reward = 0\n",
    "        all_loss = []\n",
    "\n",
    "        while not done:\n",
    "            action = agent.get_action(state)\n",
    "            next_state, reward, done, _ = env.step(action)\n",
    "            loss = agent.learn(state, action, reward, next_state, done)\n",
    "            all_loss.append(loss)\n",
    "            state = next_state\n",
    "            total_reward += reward\n",
    "            if render:\n",
    "                env.render()\n",
    "            if done:\n",
    "                print(\"\\n\")\n",
    "            print(f\"Episode#:{episode} ep_reward:{total_reward}\", end=\"\\r\")"
   ]
  },
  {
   "cell_type": "code",
   "execution_count": 5,
   "metadata": {},
   "outputs": [
    {
     "name": "stdout",
     "output_type": "stream",
     "text": [
      "WARNING:tensorflow:Layer actor_critic is casting an input tensor from dtype float64 to the layer's dtype of float32, which is new behavior in TensorFlow 2.  The layer has dtype float32 because it's dtype defaults to floatx.\n",
      "\n",
      "If you intended to run this layer in float32, you can safely ignore this warning. If in doubt, this warning is likely only an issue if you are porting a TensorFlow 1.X model to TensorFlow 2.\n",
      "\n",
      "To change all layers to have dtype float64 by default, call `tf.keras.backend.set_floatx('float64')`. To change just this layer, pass dtype='float64' to the layer constructor. If you are the author of this layer, you can disable autocasting by passing autocast=False to the base Layer constructor.\n",
      "\n"
     ]
    },
    {
     "name": "stdout",
     "output_type": "stream",
     "text": [
      "Episode#:0 ep_reward:1.0\r",
      "Episode#:0 ep_reward:2.0\r",
      "Episode#:0 ep_reward:3.0\r",
      "Episode#:0 ep_reward:4.0\r",
      "Episode#:0 ep_reward:5.0\r",
      "Episode#:0 ep_reward:6.0\r",
      "Episode#:0 ep_reward:7.0\r",
      "Episode#:0 ep_reward:8.0\r",
      "Episode#:0 ep_reward:9.0\r",
      "Episode#:0 ep_reward:10.0\r",
      "Episode#:0 ep_reward:11.0\r"
     ]
    },
    {
     "name": "stdout",
     "output_type": "stream",
     "text": [
      "Episode#:0 ep_reward:12.0\r",
      "Episode#:0 ep_reward:13.0\r",
      "Episode#:0 ep_reward:14.0\r",
      "Episode#:0 ep_reward:15.0\r",
      "Episode#:0 ep_reward:16.0\r",
      "Episode#:0 ep_reward:17.0\r",
      "Episode#:0 ep_reward:18.0\r",
      "Episode#:0 ep_reward:19.0\r"
     ]
    },
    {
     "name": "stdout",
     "output_type": "stream",
     "text": [
      "Episode#:0 ep_reward:20.0\r",
      "Episode#:0 ep_reward:21.0\r",
      "Episode#:0 ep_reward:22.0\r",
      "Episode#:0 ep_reward:23.0\r",
      "Episode#:0 ep_reward:24.0\r",
      "Episode#:0 ep_reward:25.0\r",
      "Episode#:0 ep_reward:26.0\r",
      "Episode#:0 ep_reward:27.0\r",
      "Episode#:0 ep_reward:28.0\r",
      "Episode#:0 ep_reward:29.0\r",
      "Episode#:0 ep_reward:30.0\r",
      "Episode#:0 ep_reward:31.0\r"
     ]
    },
    {
     "name": "stdout",
     "output_type": "stream",
     "text": [
      "Episode#:0 ep_reward:32.0\r",
      "Episode#:0 ep_reward:33.0\r",
      "Episode#:0 ep_reward:34.0\r",
      "Episode#:0 ep_reward:35.0\r",
      "Episode#:0 ep_reward:36.0\r",
      "Episode#:0 ep_reward:37.0\r",
      "Episode#:0 ep_reward:38.0\r",
      "Episode#:0 ep_reward:39.0\r"
     ]
    },
    {
     "name": "stdout",
     "output_type": "stream",
     "text": [
      "Episode#:0 ep_reward:40.0\r",
      "Episode#:0 ep_reward:41.0\r",
      "Episode#:0 ep_reward:42.0\r",
      "Episode#:0 ep_reward:43.0\r",
      "Episode#:0 ep_reward:44.0\r",
      "Episode#:0 ep_reward:45.0\r",
      "Episode#:0 ep_reward:46.0\r",
      "Episode#:0 ep_reward:47.0\r",
      "Episode#:0 ep_reward:48.0\r",
      "Episode#:0 ep_reward:49.0\r",
      "Episode#:0 ep_reward:50.0\r",
      "Episode#:0 ep_reward:51.0\r"
     ]
    },
    {
     "name": "stdout",
     "output_type": "stream",
     "text": [
      "Episode#:0 ep_reward:52.0\r",
      "Episode#:0 ep_reward:53.0\r",
      "Episode#:0 ep_reward:54.0\r",
      "Episode#:0 ep_reward:55.0\r",
      "Episode#:0 ep_reward:56.0\r",
      "Episode#:0 ep_reward:57.0\r",
      "Episode#:0 ep_reward:58.0\r"
     ]
    },
    {
     "name": "stdout",
     "output_type": "stream",
     "text": [
      "Episode#:0 ep_reward:59.0\r",
      "Episode#:0 ep_reward:60.0\r",
      "Episode#:0 ep_reward:61.0\r\n",
      "\n",
      "Episode#:0 ep_reward:62.0\r",
      "Episode#:1 ep_reward:1.0\r",
      "Episode#:1 ep_reward:2.0\r",
      "Episode#:1 ep_reward:3.0\r",
      "Episode#:1 ep_reward:4.0\r",
      "Episode#:1 ep_reward:5.0\r",
      "Episode#:1 ep_reward:6.0\r",
      "Episode#:1 ep_reward:7.0\r",
      "Episode#:1 ep_reward:8.0\r"
     ]
    },
    {
     "name": "stdout",
     "output_type": "stream",
     "text": [
      "Episode#:1 ep_reward:9.0\r",
      "Episode#:1 ep_reward:10.0\r",
      "Episode#:1 ep_reward:11.0\r",
      "Episode#:1 ep_reward:12.0\r",
      "Episode#:1 ep_reward:13.0\r",
      "Episode#:1 ep_reward:14.0\r",
      "Episode#:1 ep_reward:15.0\r"
     ]
    },
    {
     "name": "stdout",
     "output_type": "stream",
     "text": [
      "Episode#:1 ep_reward:16.0\r",
      "Episode#:1 ep_reward:17.0\r",
      "Episode#:1 ep_reward:18.0\r",
      "Episode#:1 ep_reward:19.0\r",
      "Episode#:1 ep_reward:20.0\r",
      "Episode#:1 ep_reward:21.0\r\n",
      "\n",
      "Episode#:1 ep_reward:22.0\r"
     ]
    }
   ],
   "source": [
    "if __name__ == \"__main__\":\n",
    "\n",
    "    env = gym.make(\"CartPole-v0\")\n",
    "    agent = Agent(env.action_space.n)\n",
    "    num_episodes = 2  #  Increase number of episodes to train\n",
    "    # Set render=True to visualize Agent's actions in the env\n",
    "    train(agent, env, num_episodes, render=False)"
   ]
  }
 ],
 "metadata": {
  "jupytext": {
   "cell_metadata_filter": "-all",
   "executable": "/usr/bin/env python",
   "formats": "ipynb,py"
  },
  "kernelspec": {
   "display_name": "tfrl-cookbook",
   "language": "python",
   "name": "tfrl-cookbook"
  },
  "language_info": {
   "codemirror_mode": {
    "name": "ipython",
    "version": 3
   },
   "file_extension": ".py",
   "mimetype": "text/x-python",
   "name": "python",
   "nbconvert_exporter": "python",
   "pygments_lexer": "ipython3",
   "version": "3.8.0"
  }
 },
 "nbformat": 4,
 "nbformat_minor": 4
}
