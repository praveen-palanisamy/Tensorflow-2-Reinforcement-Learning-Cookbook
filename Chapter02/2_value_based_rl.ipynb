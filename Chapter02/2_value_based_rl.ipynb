{
 "cells": [
  {
   "cell_type": "markdown",
   "metadata": {},
   "source": [
    "Value-based reinforcement learning\n",
    "Chapter 2, TensorFlow 2 Reinforcement Learning Cookbook | Praveen Palanisamy"
   ]
  },
  {
   "cell_type": "code",
   "execution_count": 1,
   "metadata": {},
   "outputs": [],
   "source": [
    "from pathlib import Path"
   ]
  },
  {
   "cell_type": "code",
   "execution_count": 2,
   "metadata": {},
   "outputs": [],
   "source": [
    "import numpy as np"
   ]
  },
  {
   "cell_type": "code",
   "execution_count": 3,
   "metadata": {},
   "outputs": [],
   "source": [
    "from envs.maze import MazeEnv\n",
    "from value_function_utils import visualize_maze_values"
   ]
  },
  {
   "cell_type": "code",
   "execution_count": 4,
   "metadata": {},
   "outputs": [],
   "source": [
    "discount = 0.9\n",
    "iters = 1000"
   ]
  },
  {
   "cell_type": "code",
   "execution_count": 5,
   "metadata": {},
   "outputs": [],
   "source": [
    "env = MazeEnv()\n",
    "state_dim = env.distinct_states\n",
    "state_values = np.zeros(state_dim)\n",
    "q_values = np.zeros((state_dim, env.action_space.n))  # Action values\n",
    "policy = np.zeros(state_dim)"
   ]
  },
  {
   "cell_type": "code",
   "execution_count": 6,
   "metadata": {},
   "outputs": [],
   "source": [
    "def calculate_values(state, action):\n",
    "    \"\"\"Evaluate Value function for given state and action\n",
    "\n",
    "    Args:\n",
    "        state (int): Valid (discrete) state in discrete `env.observation_space`\n",
    "        action (int): Valid (discrete) action in `env.action_space`\n",
    "\n",
    "    Returns:\n",
    "        v_sum: value for given state, action\n",
    "    \"\"\"\n",
    "    v_sum = 0\n",
    "    transitions = []\n",
    "    slip_action = env.slip_action_map[action]\n",
    "    env.set_state(state)\n",
    "    slip_next_state, slip_reward, _ = env.step(slip_action, slip=False)\n",
    "    transitions.append((slip_reward, slip_next_state, env.slip))\n",
    "    env.set_state(state)\n",
    "    next_state, reward, _ = env.step(action, slip=False)\n",
    "    transitions.append((reward, next_state, 1 - env.slip))\n",
    "    for reward, next_state, pi in transitions:\n",
    "        v_sum += pi * (reward + discount * state_values[next_state])\n",
    "    return v_sum"
   ]
  },
  {
   "cell_type": "code",
   "execution_count": 7,
   "metadata": {},
   "outputs": [],
   "source": [
    "# Value Iteration\n",
    "for i in range(iters):\n",
    "    v_s = np.zeros(state_dim)\n",
    "    for state in range(state_dim):\n",
    "        if env.index_to_coordinate_map[int(state / 8)] == env.goal_pos:\n",
    "            continue\n",
    "        v_max = float(\"-inf\")\n",
    "        for action in range(env.action_space.n):\n",
    "            v_sum = calculate_values(state, action)\n",
    "            v_max = max(v_max, v_sum)\n",
    "        v_s[state] = v_max\n",
    "    state_values = np.copy(v_s)"
   ]
  },
  {
   "cell_type": "code",
   "execution_count": 8,
   "metadata": {},
   "outputs": [],
   "source": [
    "for state in range(state_dim):\n",
    "    for action in range(env.action_space.n):\n",
    "        q_values[state, action] = calculate_values(state, action)"
   ]
  },
  {
   "cell_type": "code",
   "execution_count": 9,
   "metadata": {},
   "outputs": [],
   "source": [
    "for state in range(state_dim):\n",
    "    policy[state] = np.argmax(q_values[state, :])"
   ]
  },
  {
   "cell_type": "code",
   "execution_count": 10,
   "metadata": {},
   "outputs": [
    {
     "name": "stdout",
     "output_type": "stream",
     "text": [
      "Action mapping:[0 - UP; 1 - DOWN; 2 - LEFT; 3 - RIGHT\n",
      "Optimal actions:\n",
      "[1. 1. 1. 1. 1. 1. 1. 1. 3. 3. 3. 3. 3. 3. 3. 3. 1. 1. 3. 1. 3. 1. 3. 3.\n",
      " 3. 1. 3. 3. 3. 3. 3. 3. 0. 3. 0. 0. 3. 0. 0. 0. 2. 2. 0. 2. 0. 2. 0. 0.\n",
      " 0. 1. 0. 0. 1. 1. 0. 1. 0. 1. 0. 0. 3. 3. 0. 3. 0. 3. 0. 0. 3. 0. 0. 0.\n",
      " 1. 1. 1. 2. 3. 3. 3. 3. 1. 1. 1. 0. 1. 0. 0. 0. 1. 1. 1. 0. 1. 0. 0. 0.\n",
      " 1. 0. 0. 0. 0. 0. 0. 0. 2. 2. 2. 2. 0. 0. 0. 0.]\n"
     ]
    },
    {
     "data": {
      "image/png": "[encoded data removed]",
      "text/plain": [
       "<Figure size 432x288 with 1 Axes>"
      ]
     },
     "metadata": {
      "needs_background": "light"
     },
     "output_type": "display_data"
    },
    {
     "data": {
      "image/png": "[encoded data removed]",
      "text/plain": [
       "<Figure size 432x288 with 1 Axes>"
      ]
     },
     "metadata": {
      "needs_background": "light"
     },
     "output_type": "display_data"
    },
    {
     "data": {
      "image/png": "[encoded data removed]",
      "text/plain": [
       "<Figure size 432x288 with 1 Axes>"
      ]
     },
     "metadata": {
      "needs_background": "light"
     },
     "output_type": "display_data"
    },
    {
     "data": {
      "image/png": "[encoded data removed]",
      "text/plain": [
       "<Figure size 432x288 with 1 Axes>"
      ]
     },
     "metadata": {
      "needs_background": "light"
     },
     "output_type": "display_data"
    },
    {
     "data": {
      "image/png": "[encoded data removed]",
      "text/plain": [
       "<Figure size 432x288 with 1 Axes>"
      ]
     },
     "metadata": {
      "needs_background": "light"
     },
     "output_type": "display_data"
    },
    {
     "data": {
      "image/png": "[encoded data removed]",
      "text/plain": [
       "<Figure size 432x288 with 1 Axes>"
      ]
     },
     "metadata": {
      "needs_background": "light"
     },
     "output_type": "display_data"
    },
    {
     "data": {
      "image/png": "[encoded data removed]",
      "text/plain": [
       "<Figure size 432x288 with 1 Axes>"
      ]
     },
     "metadata": {
      "needs_background": "light"
     },
     "output_type": "display_data"
    },
    {
     "data": {
      "image/png": "[encoded data removed]",
      "text/plain": [
       "<Figure size 432x288 with 1 Axes>"
      ]
     },
     "metadata": {
      "needs_background": "light"
     },
     "output_type": "display_data"
    }
   ],
   "source": [
    "Path(\"results\").mkdir(exist_ok=True)\n",
    "np.save(\"results/q_values\", q_values)\n",
    "np.save(\"results/optimal_policy\", policy)\n",
    "# print(q_values)\n",
    "print(\"Action mapping:[0 - UP; 1 - DOWN; 2 - LEFT; 3 - RIGHT\")\n",
    "print(\"Optimal actions:\")\n",
    "print(policy)\n",
    "visualize_maze_values(q_values, env)"
   ]
  }
 ],
 "metadata": {
  "jupytext": {
   "cell_metadata_filter": "-all",
   "executable": "/usr/bin/env python",
   "formats": "ipynb,py"
  },
  "kernelspec": {
   "display_name": "tfrl-cookbook",
   "language": "python",
   "name": "tfrl-cookbook"
  },
  "language_info": {
   "codemirror_mode": {
    "name": "ipython",
    "version": 3
   },
   "file_extension": ".py",
   "mimetype": "text/x-python",
   "name": "python",
   "nbconvert_exporter": "python",
   "pygments_lexer": "ipython3",
   "version": "3.8.0"
  }
 },
 "nbformat": 4,
 "nbformat_minor": 4
}
